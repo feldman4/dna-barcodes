{
 "cells": [
  {
   "cell_type": "markdown",
   "metadata": {},
   "source": [
    "# Overview\n",
    "\n",
    "Modified version of dna-barcodes by David Feldman for Jupyter notebook:\n",
    "    https://github.com/feldman4/dna-barcodes/\n",
    "    \n",
    "Includes functions from his optically pooled screen repo:\n",
    "    https://github.com/feldman4/OpticalPooledScreens/blob/master/ops/pool_design.py\n",
    "    \n",
    "Example where this script is used to generate barcodes for LAMP-seq below."
   ]
  },
  {
   "cell_type": "markdown",
   "metadata": {},
   "source": [
    "# To Do\n",
    "\n",
    "Implement bin reduction by targeting bins with lowest remaining indices for speed-up\n",
    "Understand khash implementation"
   ]
  },
  {
   "cell_type": "code",
   "execution_count": 1,
   "metadata": {},
   "outputs": [
    {
     "name": "stdout",
     "output_type": "stream",
     "text": [
      "Requirement already satisfied: tqdm in /Users/dli/opt/anaconda3/lib/python3.7/site-packages (4.40.2)\n",
      "Note: you may need to restart the kernel to use updated packages.\n",
      "Requirement already satisfied: multiprocess in /Users/dli/.local/lib/python3.7/site-packages (0.70.9)\n",
      "Requirement already satisfied: dill>=0.3.1 in /Users/dli/.local/lib/python3.7/site-packages (from multiprocess) (0.3.1.1)\n",
      "Note: you may need to restart the kernel to use updated packages.\n"
     ]
    }
   ],
   "source": [
    "#Check for/install dependencies, may need to restart kernel after\n",
    "%pip install --user tqdm\n",
    "%pip install --user multiprocess"
   ]
  },
  {
   "cell_type": "code",
   "execution_count": 2,
   "metadata": {},
   "outputs": [],
   "source": [
    "#Import useful general  libraries\n",
    "from collections import Counter, defaultdict\n",
    "from itertools import product\n",
    "import Levenshtein\n",
    "import numpy as np\n",
    "import pandas as pd\n",
    "import scipy.sparse\n",
    "import regex as re\n",
    "from tqdm.notebook import tnrange,tqdm_notebook, tqdm\n",
    "\n",
    "#Packages for parallelization:\n",
    "import os\n",
    "import multiprocessing.pool\n",
    "from multiprocessing import Pool \n",
    "import time\n",
    "import psutil\n",
    "from functools import partial"
   ]
  },
  {
   "cell_type": "code",
   "execution_count": 57,
   "metadata": {},
   "outputs": [],
   "source": [
    "#All parameters (variant of function for JSB)\n",
    "\n",
    "#Parameters for this run:\n",
    "barcode_length = 7 #Barcode length \n",
    "desired_Levenshtein_distance = 3 #Minimum pairwise edit distance\n",
    "sequence_to_exclude = \"GTCC\" #Sequence to exclude i.e. RC of 3' end of primer of length x. Leave as \"\" if none.\n",
    "left_seq = \"TCAG\" #Sequence of length x to the left of BC\n",
    "right_seq = \"CCAA\" #Sequence of length x to the right of BC\n",
    "max_MM_to_exclude = 1 #Maximum number of MMs to sequence_to_exclude for filtering\n",
    "file_suffix = \"PrimerSet4JSB\" #String to append as identifier for output .csv\n",
    "\n",
    "#Global parameters:\n",
    "barcode_length_cap = 11\n",
    "min_GC_percent = 30\n",
    "max_GC_percent = 70\n",
    "max_homopolymer_length = 4\n",
    "seq_input_number_limit = 0 #limit to number of sequences input to design process, 0=no limit\n",
    "max_pairs_checked = int(1e6) #maximum number of barcode pairs to verify edit distance"
   ]
  },
  {
   "cell_type": "code",
   "execution_count": 58,
   "metadata": {},
   "outputs": [],
   "source": [
    "#All parameters\n",
    "\n",
    "#Parameters for this run:\n",
    "barcode_length = 7 #Barcode length \n",
    "desired_Levenshtein_distance = 3 #Minimum pairwise edit distance\n",
    "regex_for_exclusion = \"(?:(GTC$|GTCC|GT$|^TCC)){s<2}\" #Regex for excluding barcodes, re syntax, \"\" for none\n",
    "file_suffix = \"PrimerSet4\" #String to append as identifier for output .csv\n",
    "\n",
    "#Global parameters:\n",
    "barcode_length_cap = 11\n",
    "min_GC_percent = 30\n",
    "max_GC_percent = 70\n",
    "max_homopolymer_length = 4\n",
    "seq_input_number_limit = 0 #limit to number of sequences input to design process, 0=no limit\n",
    "max_pairs_checked = int(1e6) #maximum number of barcode pairs to verify edit distance"
   ]
  },
  {
   "cell_type": "markdown",
   "metadata": {},
   "source": [
    "## Helper Functions"
   ]
  },
  {
   "cell_type": "code",
   "execution_count": 4,
   "metadata": {},
   "outputs": [],
   "source": [
    "#Progress bar using starmap\n",
    "\n",
    "def istarmap(self, func, iterable, chunksize=1):\n",
    "    \"\"\" https://stackoverflow.com/questions/57354700/starmap-combined-with-tqdm \"\"\"\n",
    "    \n",
    "    mpp = multiprocessing.pool\n",
    "\n",
    "    if self._state != mpp.RUN:\n",
    "        raise ValueError(\"Pool not running\")\n",
    "\n",
    "    if chunksize < 1:\n",
    "        raise ValueError(\n",
    "            \"Chunksize must be 1+, not {0:n}\".format(\n",
    "                chunksize))\n",
    "\n",
    "    task_batches = mpp.Pool._get_tasks(func, iterable, chunksize)\n",
    "    result = mpp.IMapIterator(self._cache)\n",
    "    self._taskqueue.put(\n",
    "        (\n",
    "            self._guarded_task_generation(result._job,\n",
    "                                          mpp.starmapstar,\n",
    "                                          task_batches),\n",
    "            result._set_length\n",
    "        ))\n",
    "    return (item for chunk in result for item in chunk)\n",
    "\n",
    "\n",
    "multiprocessing.pool.Pool.istarmap = istarmap"
   ]
  },
  {
   "cell_type": "code",
   "execution_count": 5,
   "metadata": {},
   "outputs": [],
   "source": [
    "# Basic string functions\n",
    "\n",
    "def generate_all_barcodes(n, lengthcap):\n",
    "    ''' Generates all barcodes of length n, capped at length lengthcap '''\n",
    "    if n > lengthcap:\n",
    "        raise ValueError\n",
    "        \n",
    "    return [''.join(x) for x in product(*(n*[list('ACTG')]))]\n",
    "\n",
    "def calculate_gc(s):\n",
    "    ''' Calculates GC proportion of a string s'''\n",
    "    s = s.upper()\n",
    "    return (s.count('G') + s.count('C')) / len(s)\n",
    "\n",
    "def has_homopolymer(x, n):\n",
    "    ''' Checks if homopolymer of length n found in string x'''\n",
    "    a = 'A'*n in x\n",
    "    t = 'T'*n in x\n",
    "    g = 'G'*n in x\n",
    "    c = 'C'*n in x\n",
    "    return (a or t or g or c)\n"
   ]
  },
  {
   "cell_type": "code",
   "execution_count": 6,
   "metadata": {},
   "outputs": [],
   "source": [
    "# Hashing and set reduction\n",
    "# Unmodified from original, room for improvement\n",
    "\n",
    "def khash(s, k):\n",
    "    \"\"\"\n",
    "    Divide a string s into substrings suitable for checking edit distance of k.\n",
    "    Two strings of the same length with Levenshtein edit distance < k will share at least one substring. \n",
    "    \"\"\"\n",
    "    n = len(s)\n",
    "    window = int(np.ceil((n - k) / float(k)))\n",
    "    s = s + s\n",
    "    arr = []\n",
    "    for i in range(n):\n",
    "        for j in (0, 1):\n",
    "            arr += [((i + j) % n, s[i:i+window])]\n",
    "    return arr\n",
    "\n",
    "def build_khash(xs, k, return_dict=False):\n",
    "    D = defaultdict(list)\n",
    "    for x in xs:\n",
    "        for h in khash(x, k):\n",
    "             D[h].append(x)\n",
    "\n",
    "    D = {k: sorted(set(v)) for k,v in D.items()}\n",
    "    if return_dict:\n",
    "        return D\n",
    "    else:\n",
    "        hash_buckets = list(D.values())\n",
    "        return hash_buckets\n",
    "\n",
    "def sparse_dist(hash_buckets, k, distance=None, progress=None):\n",
    "    \"\"\" Entries less than k only. \"\"\"\n",
    "    if distance is None:\n",
    "        distance = Levenshtein.distance\n",
    "    if progress is None:\n",
    "        progress = lambda x: x\n",
    "    D = {}\n",
    "    for xs in progress(hash_buckets):\n",
    "        for i, a in enumerate(xs):\n",
    "            for b in xs[i+1:]:\n",
    "                d = distance(a,b)\n",
    "                if d < k:\n",
    "                    key = tuple(sorted((a,b)))\n",
    "                    D[key] = d\n",
    "    return D\n",
    "\n",
    "\n",
    "def sparse_view(xs, D, symmetric=True):\n",
    "    \"\"\" string barcodes \"\"\"\n",
    "    assert len(xs) == len(set(xs))\n",
    "    mapper = {x: i for i, x in enumerate(xs)}\n",
    "    f = lambda x: mapper[x]\n",
    "    if len(D) == 0:\n",
    "        i, j, data = [], [], []\n",
    "    else:\n",
    "        i, j, data = zip(*[(f(a), f(b), v) for (a, b), v in D.items()])\n",
    "        # sparse matrix uses zero for missing values\n",
    "        data = np.array(data) >= 0\n",
    "        i = np.array(i)\n",
    "        j = np.array(j)\n",
    "\n",
    "    n = len(xs)\n",
    "    cm = scipy.sparse.coo_matrix((data, (i, j)), shape=(n, n))\n",
    "\n",
    "    if symmetric:\n",
    "        cm = (cm + cm.T).tocsr()\n",
    "        \n",
    "    return cm\n",
    "\n",
    "\n",
    "def maxy_clique_groups(cm, group_ids, verbose=False):\n",
    "    \"\"\"\n",
    "    Prioritizes groups with the fewest selected barcodes.\n",
    "    Prioritizing groups with the fewest remaining barcodes could give\n",
    "    better results.\n",
    "    \"\"\"\n",
    "\n",
    "    # counts => group_id\n",
    "    d1 = defaultdict(set)\n",
    "    for id_, counts in Counter(group_ids).items():\n",
    "        d1[counts] |= {id_}\n",
    "\n",
    "    # group_id => indices\n",
    "    d2 = defaultdict(list)\n",
    "    for i, id_ in enumerate(group_ids):\n",
    "        d2[id_] += [i]\n",
    "    # .pop() takes from the end of the list\n",
    "    d2 = {k: v[::-1] for k,v in d2.items()}\n",
    "\n",
    "    # group_id => # selected\n",
    "    d3 = Counter()\n",
    "\n",
    "    selected = []\n",
    "    available = np.array(range(len(group_ids)))\n",
    "\n",
    "    while d1:\n",
    "        if verbose and (len(selected) % 1000) == 0:\n",
    "            print(len(selected))\n",
    "    #     assert cm[selected, :][:, selected].sum() == 0\n",
    "\n",
    "        # pick a group_id from the lowest bin\n",
    "        count = min(d1.keys())\n",
    "        id_ = d1[count].pop()\n",
    "\n",
    "        # remove bin if empty\n",
    "        if len(d1[count]) == 0:\n",
    "            d1.pop(count)\n",
    "\n",
    "        # discard indices until we find a new one\n",
    "        index = None\n",
    "        while d2[id_]:\n",
    "            index = d2[id_].pop()\n",
    "            # approach 1: check for conflict every time\n",
    "            # cm[index, selected].sum() == 0\n",
    "            # approach 2: keep an array of available indices\n",
    "            if index in available:\n",
    "                break\n",
    "        else:\n",
    "            index = None\n",
    "\n",
    "        # keep index\n",
    "        if index:\n",
    "            selected.append(index)\n",
    "            d3[id_] += 1\n",
    "            available = available[available != index]\n",
    "            # get rid of incompatible barcodes\n",
    "            remove = cm[index, available].indices\n",
    "            mask = np.ones(len(available), dtype=bool)\n",
    "            mask[remove] = False\n",
    "            available = available[mask]\n",
    "\n",
    "        # move group_id to another bin\n",
    "        n = len(d2[id_])\n",
    "        if n > 0:\n",
    "            d1[n] |= {id_}\n",
    "\n",
    "    return selected"
   ]
  },
  {
   "cell_type": "code",
   "execution_count": 7,
   "metadata": {},
   "outputs": [],
   "source": [
    "# Levenshtein distance validation\n",
    "\n",
    "def check_barcode_set(barcodes, k, distance='Levenshtein', max_to_check=1e6):\n",
    "    \"\"\"\n",
    "    Returns list of barcode pairs that fail to satisfy distance k.\n",
    "    \"\"\"\n",
    "    if distance == 'Levenshtein':\n",
    "        distance = Levenshtein.distance\n",
    "    failures = []\n",
    "    for a in barcodes:\n",
    "        for b in barcodes:\n",
    "            d = distance(a, b)\n",
    "            max_to_check -= 1\n",
    "            if a != b and d < k:\n",
    "                failures += [(a, b, d)]\n",
    "            if max_to_check == 0:\n",
    "                return failures\n",
    "    return failures\n",
    "\n",
    "\n",
    "def handle_failures(barcodes, k, max_to_check=1e6, num_failures_to_print=10):\n",
    "    max_to_check = int(max_to_check)\n",
    "    \n",
    "    print('Validating barcodes...')\n",
    "    failures = check_barcode_set(barcodes, k, max_to_check=max_to_check)\n",
    "    if failures:\n",
    "        print('!! Failures detected !!')\n",
    "        \n",
    "        for failure in range(num_failures_to_print):\n",
    "            print('{} {} distance={}'.format(*failure))\n",
    "        if len(failures) > num_failures_to_print:\n",
    "            print('...')\n",
    "\n",
    "    else:\n",
    "        if max_to_check > (len(barcodes)**2):\n",
    "            print('All barcodes passed!')\n",
    "        else:\n",
    "            print(f'Checked {max_to_check:,} barcode pairs, all passed!')\n",
    "\n",
    "    return failures"
   ]
  },
  {
   "cell_type": "markdown",
   "metadata": {},
   "source": [
    "## Main Functions"
   ]
  },
  {
   "cell_type": "code",
   "execution_count": 32,
   "metadata": {},
   "outputs": [],
   "source": [
    "# Parallelized with max cores\n",
    "    \n",
    "def create_barcode_set(n, k, homopolymer, gc_min, gc_max, lengthcap = 11, exclude=None,\n",
    "    limit=None):\n",
    "\n",
    "    df_bcs = (pd.DataFrame({'barcode': generate_all_barcodes(n, lengthcap)})\n",
    "     .assign(gc=lambda x: x['barcode'].apply(calculate_gc)))\n",
    "\n",
    "    print(f'Generated {len(df_bcs)} barcodes of length {n}')\n",
    "\n",
    "    barcodes = (df_bcs\n",
    "     .query('@gc_min < gc < @gc_max')\n",
    "     .loc[lambda x: ~(x['barcode'].apply(lambda y:\n",
    "        has_homopolymer(y, homopolymer)))]\n",
    "     ['barcode'].pipe(list))\n",
    "\n",
    "    print(f'Retained {len(barcodes)} barcodes after '\n",
    "        'filtering for GC content and homopolymers')\n",
    "\n",
    "    if exclude is not None:\n",
    "        pat = re.compile(exclude)\n",
    "        barcodes = [bc for bc in barcodes if not pat.findall(bc)]\n",
    "        print(f'Retained {len(barcodes)} barcodes after removing matches '\n",
    "            f'to \"{exclude}\"')\n",
    "\n",
    "    if limit:\n",
    "        rs = np.random.RandomState(0)\n",
    "        barcodes = rs.choice(barcodes, limit, replace=False)\n",
    "    print('Assigning barcodes to hash buckets...')\n",
    "    hash_buckets = build_khash(barcodes, k)\n",
    "    print('Calculating distances within buckets...')\n",
    "\n",
    "    with Pool(psutil.cpu_count(logical=False)) as p:\n",
    "        do = lambda x: sparse_dist(*x)\n",
    "        work = [([x], k, None) for x in hash_buckets]\n",
    "        D = {}\n",
    "        with tqdm(total=len(hash_buckets)) as pbar:\n",
    "            for d in p.istarmap(sparse_dist, work):\n",
    "                pbar.update()\n",
    "                D.update(d)\n",
    "        p.close()\n",
    "\n",
    "    cm = sparse_view(barcodes, D)\n",
    "\n",
    "    print(f'Selecting barcodes with minimum edit distance {k}...')\n",
    "    group_ids = [0] * len(barcodes)\n",
    "    selected = maxy_clique_groups(cm, group_ids)\n",
    "\n",
    "    selected_barcodes = [barcodes[x] for x in selected]\n",
    "    print(f'Selected {len(selected_barcodes)} barcodes')\n",
    "    \n",
    "    return (df_bcs\n",
    "            .query('barcode == @selected_barcodes')\n",
    "            .assign(n=n, k=k, homopolymer=homopolymer, \n",
    "                gc_min=gc_min, gc_max=gc_max))"
   ]
  },
  {
   "cell_type": "code",
   "execution_count": 9,
   "metadata": {},
   "outputs": [],
   "source": [
    "def DNA_Barcode_Generator(barcode_length, \n",
    "                          desired_Levenshtein_distance, \n",
    "                          regex_for_exclusion,\n",
    "                          file_suffix,\n",
    "                          barcode_length_cap = 11, \n",
    "                          min_GC_percent = 30, \n",
    "                          max_GC_percent = 70,\n",
    "                          max_homopolymer_length = 4,\n",
    "                          seq_input_number_limit = 0,\n",
    "                          max_pairs_checked = int(1e6)):\n",
    "\n",
    "    #Set variables\n",
    "    limit = None if seq_input_number_limit == 0 else seq_input_number_limit\n",
    "    exclude = None if regex_for_exclusion == '' else regex_for_exclusion\n",
    "    \n",
    "    #Run main function\n",
    "    df_bcs = create_barcode_set(barcode_length, desired_Levenshtein_distance, max_homopolymer_length, min_GC_percent/100,\n",
    "                       max_GC_percent/100, barcode_length_cap, exclude, limit)\n",
    "    \n",
    "    #Validate output\n",
    "    failures = handle_failures(df_bcs['barcode'], desired_Levenshtein_distance, max_pairs_checked)\n",
    "\n",
    "    #Export barcodes to .csv\n",
    "    failure_tag = '.failure' if failures else ''\n",
    "    filename = f'barcodes_n{barcode_length}_k{desired_Levenshtein_distance}{failure_tag}_{file_suffix}.csv'\n",
    "    df_bcs.to_csv(filename, index=None)"
   ]
  },
  {
   "cell_type": "markdown",
   "metadata": {},
   "source": [
    "## Main Functions (JSB variant)"
   ]
  },
  {
   "cell_type": "code",
   "execution_count": 50,
   "metadata": {},
   "outputs": [],
   "source": [
    "# Parallelized with max cores  \n",
    "\n",
    "def create_barcode_set_for_JSB(n, k, homopolymer, gc_min, gc_max, left_seq, right_seq, max_MM_to_exclude, lengthcap = 11, exclude=None,\n",
    "    limit=None):\n",
    "\n",
    "    df_bcs = (pd.DataFrame({'barcode': generate_all_barcodes(n, lengthcap)})\n",
    "     .assign(gc=lambda x: x['barcode'].apply(calculate_gc)))\n",
    "\n",
    "    print(f'Generated {len(df_bcs)} barcodes of length {n}')\n",
    "\n",
    "    barcodes = (df_bcs\n",
    "     .query('@gc_min < gc < @gc_max')\n",
    "     .loc[lambda x: ~(x['barcode'].apply(lambda y:\n",
    "        has_homopolymer(y, homopolymer)))]\n",
    "     ['barcode'].pipe(list))\n",
    "\n",
    "    print(f'Retained {len(barcodes)} barcodes after '\n",
    "        'filtering for GC content and homopolymers')\n",
    "\n",
    "    if exclude is not None:\n",
    "        exclude = f'({exclude}){{s<{max_MM_to_exclude+1}}}'\n",
    "        pat = re.compile(exclude)\n",
    "        barcodes = [bc for bc in barcodes if not pat.findall(left_seq+bc+right_seq)]\n",
    "        print(f'Retained {len(barcodes)} barcodes after removing matches '\n",
    "            f'to \"{exclude}\"')\n",
    "        \n",
    "    if limit:\n",
    "        rs = np.random.RandomState(0)\n",
    "        barcodes = rs.choice(barcodes, limit, replace=False)\n",
    "    print('Assigning barcodes to hash buckets...')\n",
    "    hash_buckets = build_khash(barcodes, k)\n",
    "    print('Calculating distances within buckets...')\n",
    "\n",
    "    with Pool(psutil.cpu_count(logical=False)) as p:\n",
    "        do = lambda x: sparse_dist(*x)\n",
    "        work = [([x], k, None) for x in hash_buckets]\n",
    "        D = {}\n",
    "        with tqdm(total=len(hash_buckets)) as pbar:\n",
    "            for d in p.istarmap(sparse_dist, work):\n",
    "                pbar.update()\n",
    "                D.update(d)\n",
    "        p.close()\n",
    "\n",
    "    cm = sparse_view(barcodes, D)\n",
    "\n",
    "    print(f'Selecting barcodes with minimum edit distance {k}...')\n",
    "    group_ids = [0] * len(barcodes)\n",
    "    selected = maxy_clique_groups(cm, group_ids)\n",
    "\n",
    "    selected_barcodes = [barcodes[x] for x in selected]\n",
    "    print(f'Selected {len(selected_barcodes)} barcodes')\n",
    "    \n",
    "    return (df_bcs\n",
    "            .query('barcode == @selected_barcodes')\n",
    "            .assign(n=n, k=k, homopolymer=homopolymer, \n",
    "                gc_min=gc_min, gc_max=gc_max))"
   ]
  },
  {
   "cell_type": "code",
   "execution_count": 51,
   "metadata": {},
   "outputs": [],
   "source": [
    "def DNA_Barcode_Generator_for_JSB(barcode_length, \n",
    "                          desired_Levenshtein_distance, \n",
    "                          sequence_to_exclude,\n",
    "                          left_seq, \n",
    "                          right_seq, \n",
    "                          max_MM_to_exclude,\n",
    "                          file_suffix,\n",
    "                          barcode_length_cap = 11, \n",
    "                          min_GC_percent = 30, \n",
    "                          max_GC_percent = 70,\n",
    "                          max_homopolymer_length = 4,\n",
    "                          seq_input_number_limit = 0,\n",
    "                          max_pairs_checked = int(1e6)):\n",
    "\n",
    "    \n",
    "    \n",
    "    #Set variables\n",
    "    limit = None if seq_input_number_limit == 0 else seq_input_number_limit\n",
    "    exclude = None if sequence_to_exclude == '' else sequence_to_exclude\n",
    "    \n",
    "    #Run main function\n",
    "    df_bcs = create_barcode_set_for_JSB(barcode_length, desired_Levenshtein_distance, max_homopolymer_length,\n",
    "                                        min_GC_percent/100, max_GC_percent/100, left_seq, right_seq,\n",
    "                                        max_MM_to_exclude, barcode_length_cap, exclude, limit)\n",
    "    \n",
    "    #Validate output\n",
    "    failures = handle_failures(df_bcs['barcode'], desired_Levenshtein_distance, max_pairs_checked)\n",
    "\n",
    "    #Export barcodes to .csv\n",
    "    failure_tag = '.failure' if failures else ''\n",
    "    filename = f'barcodes_n{barcode_length}_k{desired_Levenshtein_distance}{failure_tag}_{file_suffix}.csv'\n",
    "    df_bcs.to_csv(filename, index=None)"
   ]
  },
  {
   "cell_type": "markdown",
   "metadata": {},
   "source": [
    "## Current Use Case"
   ]
  },
  {
   "cell_type": "code",
   "execution_count": 59,
   "metadata": {},
   "outputs": [
    {
     "name": "stdout",
     "output_type": "stream",
     "text": [
      "Generated 16384 barcodes of length 7\n",
      "Retained 8832 barcodes after filtering for GC content and homopolymers\n",
      "Retained 2341 barcodes after removing matches to \"(?:(GTC$|GTCC|GT$|^TCC)){s<2}\"\n",
      "Assigning barcodes to hash buckets...\n",
      "Calculating distances within buckets...\n"
     ]
    },
    {
     "data": {
      "application/vnd.jupyter.widget-view+json": {
       "model_id": "e1b041c47b2348c0bf32f027edd839b0",
       "version_major": 2,
       "version_minor": 0
      },
      "text/plain": [
       "HBox(children=(FloatProgress(value=0.0, max=107.0), HTML(value='')))"
      ]
     },
     "metadata": {},
     "output_type": "display_data"
    },
    {
     "name": "stdout",
     "output_type": "stream",
     "text": [
      "\n",
      "Selecting barcodes with minimum edit distance 3...\n",
      "Selected 98 barcodes\n",
      "Validating barcodes...\n",
      "All barcodes passed!\n"
     ]
    }
   ],
   "source": [
    "DNA_Barcode_Generator(barcode_length, desired_Levenshtein_distance, regex_for_exclusion, file_suffix,\n",
    "                      barcode_length_cap, min_GC_percent, max_GC_percent, max_homopolymer_length,\n",
    "                      seq_input_number_limit, max_pairs_checked)"
   ]
  },
  {
   "cell_type": "code",
   "execution_count": 60,
   "metadata": {},
   "outputs": [
    {
     "name": "stdout",
     "output_type": "stream",
     "text": [
      "Generated 16384 barcodes of length 7\n",
      "Retained 8832 barcodes after filtering for GC content and homopolymers\n",
      "Retained 2341 barcodes after removing matches to \"(GTCC){s<2}\"\n",
      "Assigning barcodes to hash buckets...\n",
      "Calculating distances within buckets...\n"
     ]
    },
    {
     "data": {
      "application/vnd.jupyter.widget-view+json": {
       "model_id": "d14d285dd7fa4ca5bf48e327c6b2fb05",
       "version_major": 2,
       "version_minor": 0
      },
      "text/plain": [
       "HBox(children=(FloatProgress(value=0.0, max=107.0), HTML(value='')))"
      ]
     },
     "metadata": {},
     "output_type": "display_data"
    },
    {
     "name": "stdout",
     "output_type": "stream",
     "text": [
      "\n",
      "Selecting barcodes with minimum edit distance 3...\n",
      "Selected 98 barcodes\n",
      "Validating barcodes...\n",
      "All barcodes passed!\n"
     ]
    }
   ],
   "source": [
    "DNA_Barcode_Generator_for_JSB(barcode_length, desired_Levenshtein_distance, sequence_to_exclude, left_seq, \n",
    "                          right_seq, max_MM_to_exclude, file_suffix, barcode_length_cap, min_GC_percent, \n",
    "                          max_GC_percent, max_homopolymer_length, seq_input_number_limit, max_pairs_checked)"
   ]
  },
  {
   "cell_type": "markdown",
   "metadata": {},
   "source": [
    "## LAMP-seq Use Case"
   ]
  },
  {
   "cell_type": "markdown",
   "metadata": {},
   "source": [
    "Primer Sets: \n",
    "- Primer Set 1: TGCGGCCAATGTTTGTAATCAG NNNNNNNNNN CCAAGGAAATTTTGGGGAC, excluding GTCC with 1 mismatch as before\n",
    "- Primer Set 2: ACCACGAAAGCAAGAAAAAGAAG NNNNNNNNNN TTCGTTTCGGAAGAGACAG, excluding CTGT with 1 mismatch as before\n",
    "- Primer Set 3: GAGCCACACGCAGCTCATTGTA NNNNNNNNNN TCACCAACTGGGACGACA, excluding TGTC with 1 mismatch as before"
   ]
  },
  {
   "cell_type": "code",
   "execution_count": 10,
   "metadata": {},
   "outputs": [
    {
     "name": "stdout",
     "output_type": "stream",
     "text": [
      "Generated 1048576 barcodes of length 10\n",
      "Retained 653896 barcodes after filtering for GC content and homopolymers\n",
      "Retained 145221 barcodes after removing matches to \"(?:(GTC$|GTCC|GT$|^TCC)){s<2}\"\n",
      "Assigning barcodes to hash buckets...\n",
      "Calculating distances within buckets...\n"
     ]
    },
    {
     "data": {
      "application/vnd.jupyter.widget-view+json": {
       "model_id": "ea775bfa24a34551964d14b73cd620c4",
       "version_major": 2,
       "version_minor": 0
      },
      "text/plain": [
       "HBox(children=(FloatProgress(value=0.0, max=577.0), HTML(value='')))"
      ]
     },
     "metadata": {},
     "output_type": "display_data"
    },
    {
     "name": "stdout",
     "output_type": "stream",
     "text": [
      "\n",
      "Selecting barcodes with minimum edit distance 3...\n",
      "Selected 3047 barcodes\n",
      "Validating barcodes...\n",
      "Checked 1,000,000 barcode pairs, all passed!\n"
     ]
    }
   ],
   "source": [
    "DNA_Barcode_Generator(10, 3, \"(?:(GTC$|GTCC|GT$|^TCC)){s<2}\", \"PrimerSet1\")"
   ]
  },
  {
   "cell_type": "code",
   "execution_count": 13,
   "metadata": {},
   "outputs": [
    {
     "name": "stdout",
     "output_type": "stream",
     "text": [
      "Generated 1048576 barcodes of length 10\n",
      "Retained 653896 barcodes after filtering for GC content and homopolymers\n",
      "Retained 324674 barcodes after removing matches to \"(?:(CTGT|CTG$)){s<2}|(?:(^TGT|CT$))\"\n",
      "Assigning barcodes to hash buckets...\n",
      "Calculating distances within buckets...\n"
     ]
    },
    {
     "data": {
      "application/vnd.jupyter.widget-view+json": {
       "model_id": "27bb6f1a1c1d463f8aac9ace708aba78",
       "version_major": 2,
       "version_minor": 0
      },
      "text/plain": [
       "HBox(children=(FloatProgress(value=0.0, max=617.0), HTML(value='')))"
      ]
     },
     "metadata": {},
     "output_type": "display_data"
    },
    {
     "name": "stdout",
     "output_type": "stream",
     "text": [
      "\n",
      "Selecting barcodes with minimum edit distance 3...\n",
      "Selected 5726 barcodes\n",
      "Validating barcodes...\n",
      "Checked 1,000,000 barcode pairs, all passed!\n"
     ]
    }
   ],
   "source": [
    "DNA_Barcode_Generator(10, 3, \"(?:(CTGT|CTG$)){s<2}|(?:(^TGT|CT$))\", \"PrimerSet2\")"
   ]
  },
  {
   "cell_type": "code",
   "execution_count": 14,
   "metadata": {},
   "outputs": [
    {
     "name": "stdout",
     "output_type": "stream",
     "text": [
      "Generated 1048576 barcodes of length 10\n",
      "Retained 653896 barcodes after filtering for GC content and homopolymers\n",
      "Retained 226533 barcodes after removing matches to \"(?:(TGTC|TG$)){s<2}|(?:(^TC|TGT$))\"\n",
      "Assigning barcodes to hash buckets...\n",
      "Calculating distances within buckets...\n"
     ]
    },
    {
     "data": {
      "application/vnd.jupyter.widget-view+json": {
       "model_id": "e0f992fc7cf2432384011807f39628e0",
       "version_major": 2,
       "version_minor": 0
      },
      "text/plain": [
       "HBox(children=(FloatProgress(value=0.0, max=607.0), HTML(value='')))"
      ]
     },
     "metadata": {},
     "output_type": "display_data"
    },
    {
     "name": "stdout",
     "output_type": "stream",
     "text": [
      "\n",
      "Selecting barcodes with minimum edit distance 3...\n",
      "Selected 4194 barcodes\n",
      "Validating barcodes...\n",
      "Checked 1,000,000 barcode pairs, all passed!\n"
     ]
    }
   ],
   "source": [
    "DNA_Barcode_Generator(10, 3, \"(?:(TGTC|TG$)){s<2}|(?:(^TC|TGT$))\", \"PrimerSet3\")"
   ]
  },
  {
   "cell_type": "markdown",
   "metadata": {},
   "source": [
    "## LAMP-seq Use Case of JSB Variant "
   ]
  },
  {
   "cell_type": "code",
   "execution_count": 53,
   "metadata": {},
   "outputs": [
    {
     "name": "stdout",
     "output_type": "stream",
     "text": [
      "Generated 16384 barcodes of length 7\n",
      "Retained 8832 barcodes after filtering for GC content and homopolymers\n",
      "Retained 2341 barcodes after removing matches to \"(GTCC){s<2}\"\n",
      "Assigning barcodes to hash buckets...\n",
      "Calculating distances within buckets...\n"
     ]
    },
    {
     "data": {
      "application/vnd.jupyter.widget-view+json": {
       "model_id": "2ff3a206f4b84a2f88df0f2a7b003d3b",
       "version_major": 2,
       "version_minor": 0
      },
      "text/plain": [
       "HBox(children=(FloatProgress(value=0.0, max=107.0), HTML(value='')))"
      ]
     },
     "metadata": {},
     "output_type": "display_data"
    },
    {
     "name": "stdout",
     "output_type": "stream",
     "text": [
      "\n",
      "Selecting barcodes with minimum edit distance 3...\n",
      "Selected 98 barcodes\n",
      "Validating barcodes...\n",
      "All barcodes passed!\n"
     ]
    }
   ],
   "source": [
    "DNA_Barcode_Generator_for_JSB(barcode_length = 7, #Smaller than 10 because faster to run\n",
    "                          desired_Levenshtein_distance = 3, \n",
    "                          sequence_to_exclude = \"GTCC\",\n",
    "                          left_seq = \"TCAG\", \n",
    "                          right_seq = \"CCAA\", \n",
    "                          max_MM_to_exclude = 1,\n",
    "                          file_suffix = \"PrimerSet1JSB\")"
   ]
  },
  {
   "cell_type": "markdown",
   "metadata": {},
   "source": [
    "## Deprecated Test Cases"
   ]
  },
  {
   "cell_type": "code",
   "execution_count": 15,
   "metadata": {},
   "outputs": [
    {
     "name": "stdout",
     "output_type": "stream",
     "text": [
      "Generated 16384 barcodes of length 7\n",
      "Retained 8832 barcodes after filtering for GC content and homopolymers\n",
      "Assigning barcodes to hash buckets...\n",
      "Calculating distances within buckets...\n"
     ]
    },
    {
     "data": {
      "application/vnd.jupyter.widget-view+json": {
       "model_id": "ec553ba744fb451db65985bc8ff8fa8b",
       "version_major": 2,
       "version_minor": 0
      },
      "text/plain": [
       "HBox(children=(FloatProgress(value=0.0, max=448.0), HTML(value='')))"
      ]
     },
     "metadata": {},
     "output_type": "display_data"
    },
    {
     "name": "stdout",
     "output_type": "stream",
     "text": [
      "\n",
      "Selecting barcodes with minimum edit distance 2...\n",
      "Selected 1991 barcodes\n"
     ]
    },
    {
     "data": {
      "text/html": [
       "<div>\n",
       "<style scoped>\n",
       "    .dataframe tbody tr th:only-of-type {\n",
       "        vertical-align: middle;\n",
       "    }\n",
       "\n",
       "    .dataframe tbody tr th {\n",
       "        vertical-align: top;\n",
       "    }\n",
       "\n",
       "    .dataframe thead th {\n",
       "        text-align: right;\n",
       "    }\n",
       "</style>\n",
       "<table border=\"1\" class=\"dataframe\">\n",
       "  <thead>\n",
       "    <tr style=\"text-align: right;\">\n",
       "      <th></th>\n",
       "      <th>barcode</th>\n",
       "      <th>gc</th>\n",
       "      <th>n</th>\n",
       "      <th>k</th>\n",
       "      <th>homopolymer</th>\n",
       "      <th>gc_min</th>\n",
       "      <th>gc_max</th>\n",
       "    </tr>\n",
       "  </thead>\n",
       "  <tbody>\n",
       "    <tr>\n",
       "      <th>71</th>\n",
       "      <td>AAACACG</td>\n",
       "      <td>0.428571</td>\n",
       "      <td>7</td>\n",
       "      <td>2</td>\n",
       "      <td>4</td>\n",
       "      <td>0.3</td>\n",
       "      <td>0.7</td>\n",
       "    </tr>\n",
       "    <tr>\n",
       "      <th>77</th>\n",
       "      <td>AAACAGC</td>\n",
       "      <td>0.428571</td>\n",
       "      <td>7</td>\n",
       "      <td>2</td>\n",
       "      <td>4</td>\n",
       "      <td>0.3</td>\n",
       "      <td>0.7</td>\n",
       "    </tr>\n",
       "    <tr>\n",
       "      <th>81</th>\n",
       "      <td>AAACCAC</td>\n",
       "      <td>0.428571</td>\n",
       "      <td>7</td>\n",
       "      <td>2</td>\n",
       "      <td>4</td>\n",
       "      <td>0.3</td>\n",
       "      <td>0.7</td>\n",
       "    </tr>\n",
       "    <tr>\n",
       "      <th>84</th>\n",
       "      <td>AAACCCA</td>\n",
       "      <td>0.428571</td>\n",
       "      <td>7</td>\n",
       "      <td>2</td>\n",
       "      <td>4</td>\n",
       "      <td>0.3</td>\n",
       "      <td>0.7</td>\n",
       "    </tr>\n",
       "    <tr>\n",
       "      <th>91</th>\n",
       "      <td>AAACCTG</td>\n",
       "      <td>0.428571</td>\n",
       "      <td>7</td>\n",
       "      <td>2</td>\n",
       "      <td>4</td>\n",
       "      <td>0.3</td>\n",
       "      <td>0.7</td>\n",
       "    </tr>\n",
       "    <tr>\n",
       "      <th>...</th>\n",
       "      <td>...</td>\n",
       "      <td>...</td>\n",
       "      <td>...</td>\n",
       "      <td>...</td>\n",
       "      <td>...</td>\n",
       "      <td>...</td>\n",
       "      <td>...</td>\n",
       "    </tr>\n",
       "    <tr>\n",
       "      <th>16162</th>\n",
       "      <td>GGGATAT</td>\n",
       "      <td>0.428571</td>\n",
       "      <td>7</td>\n",
       "      <td>2</td>\n",
       "      <td>4</td>\n",
       "      <td>0.3</td>\n",
       "      <td>0.7</td>\n",
       "    </tr>\n",
       "    <tr>\n",
       "      <th>16168</th>\n",
       "      <td>GGGATTA</td>\n",
       "      <td>0.428571</td>\n",
       "      <td>7</td>\n",
       "      <td>2</td>\n",
       "      <td>4</td>\n",
       "      <td>0.3</td>\n",
       "      <td>0.7</td>\n",
       "    </tr>\n",
       "    <tr>\n",
       "      <th>16258</th>\n",
       "      <td>GGGTAAT</td>\n",
       "      <td>0.428571</td>\n",
       "      <td>7</td>\n",
       "      <td>2</td>\n",
       "      <td>4</td>\n",
       "      <td>0.3</td>\n",
       "      <td>0.7</td>\n",
       "    </tr>\n",
       "    <tr>\n",
       "      <th>16264</th>\n",
       "      <td>GGGTATA</td>\n",
       "      <td>0.428571</td>\n",
       "      <td>7</td>\n",
       "      <td>2</td>\n",
       "      <td>4</td>\n",
       "      <td>0.3</td>\n",
       "      <td>0.7</td>\n",
       "    </tr>\n",
       "    <tr>\n",
       "      <th>16288</th>\n",
       "      <td>GGGTTAA</td>\n",
       "      <td>0.428571</td>\n",
       "      <td>7</td>\n",
       "      <td>2</td>\n",
       "      <td>4</td>\n",
       "      <td>0.3</td>\n",
       "      <td>0.7</td>\n",
       "    </tr>\n",
       "  </tbody>\n",
       "</table>\n",
       "<p>1991 rows × 7 columns</p>\n",
       "</div>"
      ],
      "text/plain": [
       "       barcode        gc  n  k  homopolymer  gc_min  gc_max\n",
       "71     AAACACG  0.428571  7  2            4     0.3     0.7\n",
       "77     AAACAGC  0.428571  7  2            4     0.3     0.7\n",
       "81     AAACCAC  0.428571  7  2            4     0.3     0.7\n",
       "84     AAACCCA  0.428571  7  2            4     0.3     0.7\n",
       "91     AAACCTG  0.428571  7  2            4     0.3     0.7\n",
       "...        ...       ... .. ..          ...     ...     ...\n",
       "16162  GGGATAT  0.428571  7  2            4     0.3     0.7\n",
       "16168  GGGATTA  0.428571  7  2            4     0.3     0.7\n",
       "16258  GGGTAAT  0.428571  7  2            4     0.3     0.7\n",
       "16264  GGGTATA  0.428571  7  2            4     0.3     0.7\n",
       "16288  GGGTTAA  0.428571  7  2            4     0.3     0.7\n",
       "\n",
       "[1991 rows x 7 columns]"
      ]
     },
     "execution_count": 15,
     "metadata": {},
     "output_type": "execute_result"
    }
   ],
   "source": [
    "create_barcode_set(7, 2, 4, 0.3, 0.7, exclude=None,\n",
    "    limit=None)"
   ]
  },
  {
   "cell_type": "code",
   "execution_count": 16,
   "metadata": {},
   "outputs": [
    {
     "name": "stdout",
     "output_type": "stream",
     "text": [
      "Generated 16384 barcodes of length 7\n",
      "Retained 8832 barcodes after filtering for GC content and homopolymers\n",
      "Retained 8717 barcodes after removing matches to \"AAAC\"\n",
      "Assigning barcodes to hash buckets...\n",
      "Calculating distances within buckets...\n"
     ]
    },
    {
     "data": {
      "application/vnd.jupyter.widget-view+json": {
       "model_id": "367cd75f7f8e481db995947e7a1a7e00",
       "version_major": 2,
       "version_minor": 0
      },
      "text/plain": [
       "HBox(children=(FloatProgress(value=0.0, max=448.0), HTML(value='')))"
      ]
     },
     "metadata": {},
     "output_type": "display_data"
    },
    {
     "name": "stdout",
     "output_type": "stream",
     "text": [
      "\n",
      "Selecting barcodes with minimum edit distance 2...\n",
      "Selected 1979 barcodes\n"
     ]
    },
    {
     "data": {
      "text/html": [
       "<div>\n",
       "<style scoped>\n",
       "    .dataframe tbody tr th:only-of-type {\n",
       "        vertical-align: middle;\n",
       "    }\n",
       "\n",
       "    .dataframe tbody tr th {\n",
       "        vertical-align: top;\n",
       "    }\n",
       "\n",
       "    .dataframe thead th {\n",
       "        text-align: right;\n",
       "    }\n",
       "</style>\n",
       "<table border=\"1\" class=\"dataframe\">\n",
       "  <thead>\n",
       "    <tr style=\"text-align: right;\">\n",
       "      <th></th>\n",
       "      <th>barcode</th>\n",
       "      <th>gc</th>\n",
       "      <th>n</th>\n",
       "      <th>k</th>\n",
       "      <th>homopolymer</th>\n",
       "      <th>gc_min</th>\n",
       "      <th>gc_max</th>\n",
       "    </tr>\n",
       "  </thead>\n",
       "  <tbody>\n",
       "    <tr>\n",
       "      <th>151</th>\n",
       "      <td>AAATCCG</td>\n",
       "      <td>0.428571</td>\n",
       "      <td>7</td>\n",
       "      <td>2</td>\n",
       "      <td>4</td>\n",
       "      <td>0.3</td>\n",
       "      <td>0.7</td>\n",
       "    </tr>\n",
       "    <tr>\n",
       "      <th>157</th>\n",
       "      <td>AAATCGC</td>\n",
       "      <td>0.428571</td>\n",
       "      <td>7</td>\n",
       "      <td>2</td>\n",
       "      <td>4</td>\n",
       "      <td>0.3</td>\n",
       "      <td>0.7</td>\n",
       "    </tr>\n",
       "    <tr>\n",
       "      <th>181</th>\n",
       "      <td>AAATGCC</td>\n",
       "      <td>0.428571</td>\n",
       "      <td>7</td>\n",
       "      <td>2</td>\n",
       "      <td>4</td>\n",
       "      <td>0.3</td>\n",
       "      <td>0.7</td>\n",
       "    </tr>\n",
       "    <tr>\n",
       "      <th>191</th>\n",
       "      <td>AAATGGG</td>\n",
       "      <td>0.428571</td>\n",
       "      <td>7</td>\n",
       "      <td>2</td>\n",
       "      <td>4</td>\n",
       "      <td>0.3</td>\n",
       "      <td>0.7</td>\n",
       "    </tr>\n",
       "    <tr>\n",
       "      <th>197</th>\n",
       "      <td>AAAGACC</td>\n",
       "      <td>0.428571</td>\n",
       "      <td>7</td>\n",
       "      <td>2</td>\n",
       "      <td>4</td>\n",
       "      <td>0.3</td>\n",
       "      <td>0.7</td>\n",
       "    </tr>\n",
       "    <tr>\n",
       "      <th>...</th>\n",
       "      <td>...</td>\n",
       "      <td>...</td>\n",
       "      <td>...</td>\n",
       "      <td>...</td>\n",
       "      <td>...</td>\n",
       "      <td>...</td>\n",
       "      <td>...</td>\n",
       "    </tr>\n",
       "    <tr>\n",
       "      <th>16162</th>\n",
       "      <td>GGGATAT</td>\n",
       "      <td>0.428571</td>\n",
       "      <td>7</td>\n",
       "      <td>2</td>\n",
       "      <td>4</td>\n",
       "      <td>0.3</td>\n",
       "      <td>0.7</td>\n",
       "    </tr>\n",
       "    <tr>\n",
       "      <th>16168</th>\n",
       "      <td>GGGATTA</td>\n",
       "      <td>0.428571</td>\n",
       "      <td>7</td>\n",
       "      <td>2</td>\n",
       "      <td>4</td>\n",
       "      <td>0.3</td>\n",
       "      <td>0.7</td>\n",
       "    </tr>\n",
       "    <tr>\n",
       "      <th>16258</th>\n",
       "      <td>GGGTAAT</td>\n",
       "      <td>0.428571</td>\n",
       "      <td>7</td>\n",
       "      <td>2</td>\n",
       "      <td>4</td>\n",
       "      <td>0.3</td>\n",
       "      <td>0.7</td>\n",
       "    </tr>\n",
       "    <tr>\n",
       "      <th>16264</th>\n",
       "      <td>GGGTATA</td>\n",
       "      <td>0.428571</td>\n",
       "      <td>7</td>\n",
       "      <td>2</td>\n",
       "      <td>4</td>\n",
       "      <td>0.3</td>\n",
       "      <td>0.7</td>\n",
       "    </tr>\n",
       "    <tr>\n",
       "      <th>16288</th>\n",
       "      <td>GGGTTAA</td>\n",
       "      <td>0.428571</td>\n",
       "      <td>7</td>\n",
       "      <td>2</td>\n",
       "      <td>4</td>\n",
       "      <td>0.3</td>\n",
       "      <td>0.7</td>\n",
       "    </tr>\n",
       "  </tbody>\n",
       "</table>\n",
       "<p>1979 rows × 7 columns</p>\n",
       "</div>"
      ],
      "text/plain": [
       "       barcode        gc  n  k  homopolymer  gc_min  gc_max\n",
       "151    AAATCCG  0.428571  7  2            4     0.3     0.7\n",
       "157    AAATCGC  0.428571  7  2            4     0.3     0.7\n",
       "181    AAATGCC  0.428571  7  2            4     0.3     0.7\n",
       "191    AAATGGG  0.428571  7  2            4     0.3     0.7\n",
       "197    AAAGACC  0.428571  7  2            4     0.3     0.7\n",
       "...        ...       ... .. ..          ...     ...     ...\n",
       "16162  GGGATAT  0.428571  7  2            4     0.3     0.7\n",
       "16168  GGGATTA  0.428571  7  2            4     0.3     0.7\n",
       "16258  GGGTAAT  0.428571  7  2            4     0.3     0.7\n",
       "16264  GGGTATA  0.428571  7  2            4     0.3     0.7\n",
       "16288  GGGTTAA  0.428571  7  2            4     0.3     0.7\n",
       "\n",
       "[1979 rows x 7 columns]"
      ]
     },
     "execution_count": 16,
     "metadata": {},
     "output_type": "execute_result"
    }
   ],
   "source": [
    "create_barcode_set(7, 2, 4, 0.3, 0.7, exclude=\"AAAC\",\n",
    "    limit=None)"
   ]
  },
  {
   "cell_type": "code",
   "execution_count": 17,
   "metadata": {},
   "outputs": [
    {
     "name": "stdout",
     "output_type": "stream",
     "text": [
      "Generated 16384 barcodes of length 7\n",
      "Retained 4416 barcodes after filtering for GC content and homopolymers\n",
      "Retained 4385 barcodes after removing matches to \"AAAC\"\n",
      "Assigning barcodes to hash buckets...\n",
      "Calculating distances within buckets...\n"
     ]
    },
    {
     "data": {
      "application/vnd.jupyter.widget-view+json": {
       "model_id": "4185cac035504a4e9341dff273d69f37",
       "version_major": 2,
       "version_minor": 0
      },
      "text/plain": [
       "HBox(children=(FloatProgress(value=0.0, max=448.0), HTML(value='')))"
      ]
     },
     "metadata": {},
     "output_type": "display_data"
    },
    {
     "name": "stdout",
     "output_type": "stream",
     "text": [
      "\n",
      "Selecting barcodes with minimum edit distance 2...\n",
      "Selected 2193 barcodes\n"
     ]
    },
    {
     "data": {
      "text/html": [
       "<div>\n",
       "<style scoped>\n",
       "    .dataframe tbody tr th:only-of-type {\n",
       "        vertical-align: middle;\n",
       "    }\n",
       "\n",
       "    .dataframe tbody tr th {\n",
       "        vertical-align: top;\n",
       "    }\n",
       "\n",
       "    .dataframe thead th {\n",
       "        text-align: right;\n",
       "    }\n",
       "</style>\n",
       "<table border=\"1\" class=\"dataframe\">\n",
       "  <thead>\n",
       "    <tr style=\"text-align: right;\">\n",
       "      <th></th>\n",
       "      <th>barcode</th>\n",
       "      <th>gc</th>\n",
       "      <th>n</th>\n",
       "      <th>k</th>\n",
       "      <th>homopolymer</th>\n",
       "      <th>gc_min</th>\n",
       "      <th>gc_max</th>\n",
       "    </tr>\n",
       "  </thead>\n",
       "  <tbody>\n",
       "    <tr>\n",
       "      <th>215</th>\n",
       "      <td>AAAGCCG</td>\n",
       "      <td>0.571429</td>\n",
       "      <td>7</td>\n",
       "      <td>2</td>\n",
       "      <td>4</td>\n",
       "      <td>0.5</td>\n",
       "      <td>0.7</td>\n",
       "    </tr>\n",
       "    <tr>\n",
       "      <th>221</th>\n",
       "      <td>AAAGCGC</td>\n",
       "      <td>0.571429</td>\n",
       "      <td>7</td>\n",
       "      <td>2</td>\n",
       "      <td>4</td>\n",
       "      <td>0.5</td>\n",
       "      <td>0.7</td>\n",
       "    </tr>\n",
       "    <tr>\n",
       "      <th>245</th>\n",
       "      <td>AAAGGCC</td>\n",
       "      <td>0.571429</td>\n",
       "      <td>7</td>\n",
       "      <td>2</td>\n",
       "      <td>4</td>\n",
       "      <td>0.5</td>\n",
       "      <td>0.7</td>\n",
       "    </tr>\n",
       "    <tr>\n",
       "      <th>277</th>\n",
       "      <td>AACACCC</td>\n",
       "      <td>0.571429</td>\n",
       "      <td>7</td>\n",
       "      <td>2</td>\n",
       "      <td>4</td>\n",
       "      <td>0.5</td>\n",
       "      <td>0.7</td>\n",
       "    </tr>\n",
       "    <tr>\n",
       "      <th>287</th>\n",
       "      <td>AACACGG</td>\n",
       "      <td>0.571429</td>\n",
       "      <td>7</td>\n",
       "      <td>2</td>\n",
       "      <td>4</td>\n",
       "      <td>0.5</td>\n",
       "      <td>0.7</td>\n",
       "    </tr>\n",
       "    <tr>\n",
       "      <th>...</th>\n",
       "      <td>...</td>\n",
       "      <td>...</td>\n",
       "      <td>...</td>\n",
       "      <td>...</td>\n",
       "      <td>...</td>\n",
       "      <td>...</td>\n",
       "      <td>...</td>\n",
       "    </tr>\n",
       "    <tr>\n",
       "      <th>16294</th>\n",
       "      <td>GGGTTCT</td>\n",
       "      <td>0.571429</td>\n",
       "      <td>7</td>\n",
       "      <td>2</td>\n",
       "      <td>4</td>\n",
       "      <td>0.5</td>\n",
       "      <td>0.7</td>\n",
       "    </tr>\n",
       "    <tr>\n",
       "      <th>16299</th>\n",
       "      <td>GGGTTTG</td>\n",
       "      <td>0.571429</td>\n",
       "      <td>7</td>\n",
       "      <td>2</td>\n",
       "      <td>4</td>\n",
       "      <td>0.5</td>\n",
       "      <td>0.7</td>\n",
       "    </tr>\n",
       "    <tr>\n",
       "      <th>16300</th>\n",
       "      <td>GGGTTGA</td>\n",
       "      <td>0.571429</td>\n",
       "      <td>7</td>\n",
       "      <td>2</td>\n",
       "      <td>4</td>\n",
       "      <td>0.5</td>\n",
       "      <td>0.7</td>\n",
       "    </tr>\n",
       "    <tr>\n",
       "      <th>16306</th>\n",
       "      <td>GGGTGAT</td>\n",
       "      <td>0.571429</td>\n",
       "      <td>7</td>\n",
       "      <td>2</td>\n",
       "      <td>4</td>\n",
       "      <td>0.5</td>\n",
       "      <td>0.7</td>\n",
       "    </tr>\n",
       "    <tr>\n",
       "      <th>16312</th>\n",
       "      <td>GGGTGTA</td>\n",
       "      <td>0.571429</td>\n",
       "      <td>7</td>\n",
       "      <td>2</td>\n",
       "      <td>4</td>\n",
       "      <td>0.5</td>\n",
       "      <td>0.7</td>\n",
       "    </tr>\n",
       "  </tbody>\n",
       "</table>\n",
       "<p>2193 rows × 7 columns</p>\n",
       "</div>"
      ],
      "text/plain": [
       "       barcode        gc  n  k  homopolymer  gc_min  gc_max\n",
       "215    AAAGCCG  0.571429  7  2            4     0.5     0.7\n",
       "221    AAAGCGC  0.571429  7  2            4     0.5     0.7\n",
       "245    AAAGGCC  0.571429  7  2            4     0.5     0.7\n",
       "277    AACACCC  0.571429  7  2            4     0.5     0.7\n",
       "287    AACACGG  0.571429  7  2            4     0.5     0.7\n",
       "...        ...       ... .. ..          ...     ...     ...\n",
       "16294  GGGTTCT  0.571429  7  2            4     0.5     0.7\n",
       "16299  GGGTTTG  0.571429  7  2            4     0.5     0.7\n",
       "16300  GGGTTGA  0.571429  7  2            4     0.5     0.7\n",
       "16306  GGGTGAT  0.571429  7  2            4     0.5     0.7\n",
       "16312  GGGTGTA  0.571429  7  2            4     0.5     0.7\n",
       "\n",
       "[2193 rows x 7 columns]"
      ]
     },
     "execution_count": 17,
     "metadata": {},
     "output_type": "execute_result"
    }
   ],
   "source": [
    "create_barcode_set(7, 2, 4, 0.5, 0.7, exclude=\"AAAC\",\n",
    "    limit=None)"
   ]
  }
 ],
 "metadata": {
  "kernelspec": {
   "display_name": "Python 3",
   "language": "python",
   "name": "python3"
  },
  "language_info": {
   "codemirror_mode": {
    "name": "ipython",
    "version": 3
   },
   "file_extension": ".py",
   "mimetype": "text/x-python",
   "name": "python",
   "nbconvert_exporter": "python",
   "pygments_lexer": "ipython3",
   "version": "3.7.0"
  }
 },
 "nbformat": 4,
 "nbformat_minor": 4
}
